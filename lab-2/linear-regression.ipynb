{
 "cells": [
  {
   "cell_type": "code",
   "execution_count": 16,
   "metadata": {
    "collapsed": true
   },
   "outputs": [
    {
     "name": "stdout",
     "output_type": "stream",
     "text": [
      "1164\n",
      "428\n",
      "256\n"
     ]
    }
   ],
   "source": [
    "import numpy as np\n",
    "from scipy import linalg\n",
    "\n",
    "np.random.seed(42)\n",
    "\n",
    "file = open(\"LR/1.txt\", \"r\")\n",
    "\n",
    "m = int(file.readline().strip())\n",
    "n = int(file.readline().strip())\n",
    "\n",
    "print(n)\n",
    "print(m)\n",
    "\n",
    "x_train = [[]] * n\n",
    "y_train = [0] * n\n",
    "\n",
    "for i in range(n):\n",
    "    x_train[i] = list(map(int, file.readline().strip().split()))\n",
    "    y_train[i] = x_train[i].pop()\n",
    "\n",
    "test_size = int(file.readline().strip())\n",
    "\n",
    "print(test_size)\n",
    "\n",
    "x_test = [[]] * test_size\n",
    "y_test = [0] * test_size\n",
    "\n",
    "for i in range(test_size):\n",
    "    x_test[i] = list(map(int, file.readline().strip().split()))\n",
    "    y_test[i] = x_test[i].pop()"
   ]
  },
  {
   "cell_type": "code",
   "execution_count": 17,
   "outputs": [
    {
     "name": "stdout",
     "output_type": "stream",
     "text": [
      "(1164, 268)\n",
      "[[0.98495183 0.3803681  0.37894737 ... 0.96083813 0.95209657 1.        ]\n",
      " [0.93262423 0.30674847 0.30526316 ... 0.91845724 0.91134509 0.99523637]\n",
      " [0.99781398 0.60122699 0.6        ... 0.93281684 0.915604   0.94380125]\n",
      " ...\n",
      " [0.10155594 0.3006135  0.29473684 ... 0.17759087 0.19934945 0.10570429]\n",
      " [0.25506182 0.67484663 0.67368421 ... 0.28898677 0.3054264  0.01031114]\n",
      " [0.09064769 0.5398773  0.53684211 ... 0.13054697 0.14577707 0.        ]]\n",
      "[0.         0.04305593 0.04853854 ... 0.90770319 0.93916542 1.        ]\n"
     ]
    }
   ],
   "source": [
    "def normalize(matrix):\n",
    "    to_delete = []\n",
    "    for i in range(len(matrix[0])):\n",
    "        column_min, column_max = np.min(matrix[:, i]), np.max(matrix[:, i])\n",
    "        if column_min == column_max:\n",
    "            to_delete.append(i)\n",
    "            continue\n",
    "        matrix[:, i] = (matrix[:, i] - column_min) / (column_max - column_min)\n",
    "    return np.delete(matrix, to_delete, 1)\n",
    "\n",
    "def normalize_vector(y):\n",
    "    column_min, column_max = np.min(y), np.max(y)\n",
    "    return (y - column_min) / (column_max - column_min)\n",
    "\n",
    "x_train = np.array(x_train, dtype=np.double)\n",
    "y_train = np.array(y_train, dtype=np.double)\n",
    "x_test = np.array(x_test, dtype=np.double)\n",
    "y_test = np.array(y_test, dtype=np.double)\n",
    "\n",
    "x_train = normalize(x_train)\n",
    "x_test = normalize(x_test)\n",
    "y_train = normalize_vector(y_train)\n",
    "y_test = normalize_vector(y_test)\n",
    "\n",
    "print(x_train.shape)\n",
    "print(x_train)\n",
    "print(y_train)"
   ],
   "metadata": {
    "collapsed": false,
    "pycharm": {
     "name": "#%%\n"
    }
   }
  },
  {
   "cell_type": "code",
   "execution_count": 18,
   "outputs": [
    {
     "name": "stdout",
     "output_type": "stream",
     "text": [
      "[[1.         0.98495183 0.3803681  ... 0.96083813 0.95209657 1.        ]\n",
      " [1.         0.93262423 0.30674847 ... 0.91845724 0.91134509 0.99523637]\n",
      " [1.         0.99781398 0.60122699 ... 0.93281684 0.915604   0.94380125]\n",
      " ...\n",
      " [1.         0.10155594 0.3006135  ... 0.17759087 0.19934945 0.10570429]\n",
      " [1.         0.25506182 0.67484663 ... 0.28898677 0.3054264  0.01031114]\n",
      " [1.         0.09064769 0.5398773  ... 0.13054697 0.14577707 0.        ]]\n"
     ]
    }
   ],
   "source": [
    "def add_ones(matrix):\n",
    "    b = np.ones((len(matrix), 1))\n",
    "    return np.hstack((b, matrix))\n",
    "\n",
    "x_train = add_ones(x_train)\n",
    "x_test = add_ones(x_test)\n",
    "\n",
    "print(x_train)"
   ],
   "metadata": {
    "collapsed": false,
    "pycharm": {
     "name": "#%%\n"
    }
   }
  },
  {
   "cell_type": "code",
   "execution_count": 19,
   "outputs": [],
   "source": [
    "def lsm(t, matrix, ys):\n",
    "    v, d, u = linalg.svd(matrix, full_matrices=False)\n",
    "    d = np.diag(d)\n",
    "    ones_matrix = np.diag(np.ones(min(len(matrix[0]), len(matrix))))\n",
    "    f_plus = ((u @ linalg.inv(d @ d + t * ones_matrix)) @ d) @ np.transpose(v)\n",
    "    params = np.matmul(f_plus, ys)\n",
    "    return params"
   ],
   "metadata": {
    "collapsed": false,
    "pycharm": {
     "name": "#%%\n"
    }
   }
  },
  {
   "cell_type": "code",
   "execution_count": 20,
   "outputs": [],
   "source": [
    "from math import sqrt\n",
    "\n",
    "def mse(w, xi, y):\n",
    "    y_pred = np.dot(xi, w)\n",
    "    return (y - y_pred) ** 2\n",
    "\n",
    "def smape(w, xi, y):\n",
    "    y_pred = np.dot(xi, w)\n",
    "    return 2 * abs(y - y_pred) / (abs(y) + abs(y_pred))\n",
    "\n",
    "def mse_gradient(w, xi, y):\n",
    "    y_pred = np.dot(xi, w)\n",
    "    return 2 * (y_pred - y) * xi\n",
    "\n",
    "def smape_gradient(w, xi, y):\n",
    "    y_pred = np.dot(xi, w)\n",
    "    sign = np.sign(y_pred - y)\n",
    "    y_plus_y_pred = abs(y) + abs(y_pred)\n",
    "    coef = 2 * (sign * y_plus_y_pred - abs(y - y_pred) * np.sign(y_pred)) / (y_plus_y_pred ** 2)\n",
    "    return coef * xi"
   ],
   "metadata": {
    "collapsed": false,
    "pycharm": {
     "name": "#%%\n"
    }
   }
  },
  {
   "cell_type": "code",
   "execution_count": 21,
   "outputs": [],
   "source": [
    "ITERATIONS = 2000\n",
    "EPS = 0.0001\n",
    "\n",
    "def changed(w_new, w):\n",
    "    return abs(np.sum(np.absolute(w_new - w))) >= EPS\n",
    "\n",
    "def stochastic_gradient_descent(step, alpha, t, loss_function, loss_grad, matrix, ys):\n",
    "    features_cnt = len(matrix[0])\n",
    "    objects_cnt = len(matrix)\n",
    "    w = np.zeros(features_cnt)\n",
    "    for i in range(features_cnt):\n",
    "        w[i] = np.random.uniform(-1 / (2 * features_cnt), 1 / (2 * features_cnt))\n",
    "    ls = 0\n",
    "\n",
    "    for _ in range(ITERATIONS):\n",
    "        index = np.random.randint(0, objects_cnt - 1)\n",
    "        x = matrix[index]\n",
    "        y = ys[index]\n",
    "        w_new = (1 - step * t) * w - step * loss_grad(w, x, y)\n",
    "        ls_new = (1 - alpha) * ls + alpha * (loss_function(w, x, y) + t / 2 * np.sum(np.square(w)))\n",
    "        if not changed(w_new, w) or abs(ls_new - ls) < EPS:\n",
    "            break\n",
    "        w = w_new\n",
    "        ls = ls_new\n",
    "\n",
    "    return w, ls\n"
   ],
   "metadata": {
    "collapsed": false,
    "pycharm": {
     "name": "#%%\n"
    }
   }
  },
  {
   "cell_type": "code",
   "execution_count": 22,
   "outputs": [],
   "source": [
    "def generate_param():\n",
    "    return np.exp(np.random.uniform(-9, 0))\n",
    "\n",
    "def calc_error(loss_function, w, dataset, ys):\n",
    "    objects_cnt = len(dataset)\n",
    "    total_error = 0\n",
    "    for i in range(objects_cnt):\n",
    "        total_error += loss_function(w, dataset[i], ys[i])\n",
    "    return total_error / objects_cnt"
   ],
   "metadata": {
    "collapsed": false,
    "pycharm": {
     "name": "#%%\n"
    }
   }
  },
  {
   "cell_type": "code",
   "execution_count": 23,
   "outputs": [
    {
     "name": "stdout",
     "output_type": "stream",
     "text": [
      "lsm:\n",
      "    error: 0.2641369877057808\n",
      "lsm:\n",
      "    error: 0.26585183386305916\n",
      "lsm:\n",
      "    error: 0.26327839217639837\n",
      "lsm:\n",
      "    error: 0.2654690030602007\n",
      "lsm:\n",
      "    error: 0.2647613074676627\n",
      "lsm:\n",
      "    error: 0.2631477978805886\n",
      "\n",
      "\n",
      "\n",
      "lsm:\n",
      "    best error: 0.2629543403670821\n",
      "    best params: t: 0.5801262504599148\n"
     ]
    }
   ],
   "source": [
    "EPOCHS = 600\n",
    "\n",
    "lsm_error = 100\n",
    "mse_error = 100\n",
    "smape_error = 100\n",
    "\n",
    "lsm_best_params = 0\n",
    "mse_best_params = ()\n",
    "smape_best_params = ()\n",
    "\n",
    "for i in range(EPOCHS):\n",
    "    t = generate_param()\n",
    "    w = lsm(t, x_train, y_train)\n",
    "    error = calc_error(mse, w, x_train, y_train)\n",
    "    if i % 100 == 0:\n",
    "        print(\"lsm:\")\n",
    "        print(f\"    error: {error}\")\n",
    "    if error < lsm_error:\n",
    "        lsm_error = error\n",
    "        lsm_best_params = t\n",
    "\n",
    "print(\"\\n\\n\")\n",
    "print(\"lsm:\")\n",
    "print(f\"    best error: {lsm_error}\")\n",
    "print(f\"    best params: t: {lsm_best_params}\")"
   ],
   "metadata": {
    "collapsed": false,
    "pycharm": {
     "name": "#%%\n"
    }
   }
  },
  {
   "cell_type": "code",
   "execution_count": 24,
   "outputs": [
    {
     "name": "stdout",
     "output_type": "stream",
     "text": [
      "gradient descent with mse:\n",
      "    error: 0.2410951801681452\n"
     ]
    },
    {
     "name": "stderr",
     "output_type": "stream",
     "text": [
      "/var/folders/rq/sg13x7f91f9b_m60s_21b_540000gn/T/ipykernel_76246/607401958.py:5: RuntimeWarning: overflow encountered in double_scalars\n",
      "  return (y - y_pred) ** 2\n",
      "/Users/veronika/Desktop/machine-learning/2-lab/venv/lib/python3.9/site-packages/numpy/core/fromnumeric.py:86: RuntimeWarning: overflow encountered in reduce\n",
      "  return ufunc.reduce(obj, axis, dtype, out, **passkwargs)\n",
      "/var/folders/rq/sg13x7f91f9b_m60s_21b_540000gn/T/ipykernel_76246/607484715.py:20: RuntimeWarning: overflow encountered in square\n",
      "  ls_new = (1 - alpha) * ls + alpha * (loss_function(w, x, y) + t / 2 * np.sum(np.square(w)))\n",
      "/var/folders/rq/sg13x7f91f9b_m60s_21b_540000gn/T/ipykernel_76246/607484715.py:21: RuntimeWarning: invalid value encountered in double_scalars\n",
      "  if not changed(w_new, w) or abs(ls_new - ls) < EPS:\n",
      "/var/folders/rq/sg13x7f91f9b_m60s_21b_540000gn/T/ipykernel_76246/607484715.py:19: RuntimeWarning: invalid value encountered in subtract\n",
      "  w_new = (1 - step * t) * w - step * loss_grad(w, x, y)\n",
      "/var/folders/rq/sg13x7f91f9b_m60s_21b_540000gn/T/ipykernel_76246/607401958.py:13: RuntimeWarning: overflow encountered in double_scalars\n",
      "  return 2 * (y_pred - y) * xi\n"
     ]
    },
    {
     "name": "stdout",
     "output_type": "stream",
     "text": [
      "gradient descent with mse:\n",
      "    error: nan\n"
     ]
    },
    {
     "name": "stderr",
     "output_type": "stream",
     "text": [
      "/var/folders/rq/sg13x7f91f9b_m60s_21b_540000gn/T/ipykernel_76246/607401958.py:13: RuntimeWarning: invalid value encountered in multiply\n",
      "  return 2 * (y_pred - y) * xi\n"
     ]
    },
    {
     "name": "stdout",
     "output_type": "stream",
     "text": [
      "gradient descent with mse:\n",
      "    error: nan\n",
      "gradient descent with mse:\n",
      "    error: nan\n",
      "gradient descent with mse:\n",
      "    error: nan\n",
      "gradient descent with mse:\n",
      "    error: 0.027870431972665956\n",
      "gradient descent with mse:\n",
      "    best error: 0.00016133582261983824\n",
      "    best params: step: 0.006632563252681422, alpha: 0.04194858162055233, t: 0.019380507180653216\n"
     ]
    }
   ],
   "source": [
    "for i in range(EPOCHS):\n",
    "    step = generate_param()\n",
    "    alpha = generate_param()\n",
    "    t = generate_param()\n",
    "    w, _ = stochastic_gradient_descent(step, alpha, t, mse, mse_gradient, x_train, y_train)\n",
    "    error = calc_error(mse, w, x_train, y_train)\n",
    "    if i % 100 == 0:\n",
    "        print(\"gradient descent with mse:\")\n",
    "        print(f\"    error: {error}\")\n",
    "    if error < mse_error:\n",
    "        mse_error = error\n",
    "        mse_best_params = (step, alpha, t)\n",
    "\n",
    "print(\"gradient descent with mse:\")\n",
    "print(f\"    best error: {mse_error}\")\n",
    "print(f\"    best params: step: {mse_best_params[0]}, alpha: {mse_best_params[1]}, t: {mse_best_params[2]}\")"
   ],
   "metadata": {
    "collapsed": false,
    "pycharm": {
     "name": "#%%\n"
    }
   }
  },
  {
   "cell_type": "code",
   "execution_count": 25,
   "outputs": [
    {
     "name": "stdout",
     "output_type": "stream",
     "text": [
      "gradient descent with smape:\n",
      "    error: 1.9065211456608164\n",
      "gradient descent with smape:\n",
      "    error: 0.2974048676153186\n",
      "gradient descent with smape:\n",
      "    error: 2.0\n",
      "gradient descent with smape:\n",
      "    error: 1.2641057036738654\n",
      "gradient descent with smape:\n",
      "    error: 2.0\n",
      "gradient descent with smape:\n",
      "    error: 0.2231208814371055\n",
      "gradient descent with smape:\n",
      "    best error: 0.01638726011616849\n",
      "    best params: step: 0.00015228972536352362, alpha: 0.4254337081098078, t: 0.6230279630050719\n"
     ]
    }
   ],
   "source": [
    "for i in range(EPOCHS):\n",
    "    step = generate_param()\n",
    "    alpha = generate_param()\n",
    "    t = generate_param()\n",
    "    w, _ = stochastic_gradient_descent(step, alpha, t, smape, smape_gradient, x_train, y_train)\n",
    "    error = calc_error(smape, w, x_train, y_train)\n",
    "    if i % 100 == 0:\n",
    "        print(\"gradient descent with smape:\")\n",
    "        print(f\"    error: {error}\")\n",
    "    if error < smape_error:\n",
    "        smape_error = error\n",
    "        smape_best_params = (step, alpha, t)\n",
    "\n",
    "print(\"gradient descent with smape:\")\n",
    "print(f\"    best error: {smape_error}\")\n",
    "print(f\"    best params: step: {smape_best_params[0]}, alpha: {smape_best_params[1]}, t: {smape_best_params[2]}\")"
   ],
   "metadata": {
    "collapsed": false,
    "pycharm": {
     "name": "#%%\n"
    }
   }
  },
  {
   "cell_type": "code",
   "execution_count": 26,
   "outputs": [
    {
     "name": "stdout",
     "output_type": "stream",
     "text": [
      "-14251.355814744582\n"
     ]
    },
    {
     "data": {
      "text/plain": "92.88169966115336"
     },
     "execution_count": 26,
     "metadata": {},
     "output_type": "execute_result"
    }
   ],
   "source": [
    "from sklearn.linear_model import LinearRegression\n",
    "\n",
    "model = LinearRegression().fit(x_train, y_train)\n",
    "y_pred = model.predict(x_test)\n",
    "print(model.score(x_test, y_test))\n",
    "\n",
    "np.sum(np.square(y_pred - y_test)) / n"
   ],
   "metadata": {
    "collapsed": false,
    "pycharm": {
     "name": "#%%\n"
    }
   }
  },
  {
   "cell_type": "code",
   "execution_count": 27,
   "outputs": [
    {
     "name": "stdout",
     "output_type": "stream",
     "text": [
      "(256, 256)\n"
     ]
    }
   ],
   "source": [
    "if x_test.shape[0] < x_test.shape[1]:\n",
    "    to_delete = set()\n",
    "    while len(to_delete) < (x_test.shape[1] - x_test.shape[0]):\n",
    "        index = np.random.randint(0, x_test.shape[1] - 1)\n",
    "        to_delete.add(index)\n",
    "    x_test = np.delete(x_test, list(to_delete), axis=1)\n",
    "\n",
    "print(x_test.shape)"
   ],
   "metadata": {
    "collapsed": false,
    "pycharm": {
     "name": "#%%\n"
    }
   }
  },
  {
   "cell_type": "code",
   "execution_count": 28,
   "outputs": [
    {
     "data": {
      "text/plain": "<Figure size 432x288 with 1 Axes>",
      "image/png": "[encoded data removed]"
     },
     "metadata": {},
     "output_type": "display_data"
    },
    {
     "data": {
      "text/plain": "<Figure size 432x288 with 1 Axes>",
      "image/png": "[encoded data removed]"
     },
     "metadata": {},
     "output_type": "display_data"
    }
   ],
   "source": [
    "from matplotlib import pyplot as plt\n",
    "plt.style.use({'figure.facecolor':'white'})\n",
    "\n",
    "lsm_mse_errors = []\n",
    "lsm_smape_errors = []\n",
    "for i in range(EPOCHS):\n",
    "    t = generate_param()\n",
    "    w = lsm(t, x_test, y_test)\n",
    "    lsm_mse_errors.append([t, calc_error(mse, w, x_test, y_test)])\n",
    "    lsm_smape_errors.append([t, calc_error(smape, w, x_test, y_test)])\n",
    "\n",
    "lsm_mse_errors.sort(key=lambda pr: pr[0])\n",
    "lsm_smape_errors.sort(key=lambda pr: pr[0])\n",
    "lsm_mse_errors = np.array(lsm_mse_errors)\n",
    "lsm_smape_errors = np.array(lsm_smape_errors)\n",
    "\n",
    "plt.figure(1)\n",
    "plt.xlabel(xlabel=\"t\")\n",
    "plt.ylabel(ylabel=\"mse error\")\n",
    "plt.title(label=\"LSM mse error\")\n",
    "plt.plot(lsm_mse_errors[:, 0], lsm_mse_errors[:, 1])\n",
    "\n",
    "plt.figure(2)\n",
    "plt.xlabel(xlabel=\"t\")\n",
    "plt.ylabel(ylabel=\"smape error\")\n",
    "plt.title(label=\"LSM smape error\")\n",
    "plt.plot(lsm_smape_errors[:, 0], lsm_smape_errors[:, 1])\n",
    "\n",
    "plt.show()"
   ],
   "metadata": {
    "collapsed": false,
    "pycharm": {
     "name": "#%%\n"
    }
   }
  },
  {
   "cell_type": "code",
   "execution_count": 29,
   "outputs": [
    {
     "data": {
      "text/plain": "[<matplotlib.lines.Line2D at 0x7f79c25e9310>]"
     },
     "execution_count": 29,
     "metadata": {},
     "output_type": "execute_result"
    },
    {
     "data": {
      "text/plain": "<Figure size 432x288 with 1 Axes>",
      "image/png": "[encoded data removed]"
     },
     "metadata": {},
     "output_type": "display_data"
    },
    {
     "data": {
      "text/plain": "<Figure size 432x288 with 1 Axes>",
      "image/png": "[encoded data removed]"
     },
     "metadata": {},
     "output_type": "display_data"
    }
   ],
   "source": [
    "mse_errors = []\n",
    "smape_errors = []\n",
    "for i in range(EPOCHS):\n",
    "    t = generate_param()\n",
    "    _, mse_ls = stochastic_gradient_descent(\n",
    "        mse_best_params[0],\n",
    "        mse_best_params[1],\n",
    "        t,\n",
    "        mse,\n",
    "        mse_gradient,\n",
    "        x_train,\n",
    "        y_train\n",
    "    )\n",
    "    mse_errors.append([t, mse_ls])\n",
    "    _, smape_ls = stochastic_gradient_descent(\n",
    "        smape_best_params[0],\n",
    "        smape_best_params[1],\n",
    "        t,\n",
    "        smape,\n",
    "        smape_gradient,\n",
    "        x_train,\n",
    "        y_train\n",
    "    )\n",
    "    smape_errors.append([t, smape_ls])\n",
    "\n",
    "mse_errors.sort(key=lambda pr: pr[0])\n",
    "smape_errors.sort(key=lambda pr: pr[0])\n",
    "mse_errors = np.array(mse_errors)\n",
    "smape_errors = np.array(smape_errors)\n",
    "\n",
    "plt.figure(1)\n",
    "plt.xlabel(xlabel=\"t\")\n",
    "plt.ylabel(ylabel=\"L\")\n",
    "plt.title(label=\"Gradient decent L with mse\")\n",
    "plt.plot(mse_errors[:, 0], mse_errors[:, 1])\n",
    "\n",
    "plt.figure(2)\n",
    "plt.xlabel(xlabel=\"t\")\n",
    "plt.ylabel(ylabel=\"L\")\n",
    "plt.title(label=\"Gradient decent L with smape\")\n",
    "plt.plot(smape_errors[:, 0], smape_errors[:, 1])"
   ],
   "metadata": {
    "collapsed": false,
    "pycharm": {
     "name": "#%%\n"
    }
   }
  },
  {
   "cell_type": "code",
   "execution_count": 30,
   "outputs": [
    {
     "name": "stdout",
     "output_type": "stream",
     "text": [
      "SMAPE:\n",
      "    lsm: 1.8972708516239725\n",
      "    mse: 0.24809789179019315\n",
      "    smape: 0.026268959418939485\n",
      "NRMSE:\n",
      "    lsm: 3.5675727218011137\n",
      "    mse: 1.0238907044579288\n",
      "    smape: 0.07184559686419102\n"
     ]
    }
   ],
   "source": [
    "def calc_nrmse(w, xs, ys):\n",
    "    y_pred = np.matmul(xs, w)\n",
    "    y_mean = ys.mean()\n",
    "    return sqrt(np.sum(np.square(ys - y_pred)) / np.sum(np.square(ys - y_mean)))\n",
    "\n",
    "def calc_smape(w, xs, ys):\n",
    "    return calc_error(smape, w, xs, ys)\n",
    "\n",
    "lsm_w = lsm(lsm_best_params, x_test, y_test)\n",
    "mse_w, _ = stochastic_gradient_descent(*mse_best_params, mse, mse_gradient, x_test, y_test)\n",
    "smape_w, _ = stochastic_gradient_descent(*smape_best_params, smape, smape_gradient, x_test, y_test)\n",
    "\n",
    "print(\"SMAPE:\")\n",
    "print(f\"    lsm: {calc_smape(lsm_w, x_test, y_test)}\")\n",
    "print(f\"    mse: {calc_smape(mse_w, x_test, y_test)}\")\n",
    "print(f\"    smape: {calc_smape(smape_w, x_test, y_test)}\")\n",
    "\n",
    "print(\"NRMSE:\")\n",
    "print(f\"    lsm: {calc_nrmse(lsm_w, x_test, y_test)}\")\n",
    "print(f\"    mse: {calc_nrmse(mse_w, x_test, y_test)}\")\n",
    "print(f\"    smape: {calc_nrmse(smape_w, x_test, y_test)}\")\n"
   ],
   "metadata": {
    "collapsed": false,
    "pycharm": {
     "name": "#%%\n"
    }
   }
  }
 ],
 "metadata": {
  "kernelspec": {
   "display_name": "Python 3",
   "language": "python",
   "name": "python3"
  },
  "language_info": {
   "codemirror_mode": {
    "name": "ipython",
    "version": 2
   },
   "file_extension": ".py",
   "mimetype": "text/x-python",
   "name": "python",
   "nbconvert_exporter": "python",
   "pygments_lexer": "ipython2",
   "version": "2.7.6"
  }
 },
 "nbformat": 4,
 "nbformat_minor": 0
}